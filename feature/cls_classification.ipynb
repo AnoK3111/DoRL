{
 "cells": [
  {
   "cell_type": "code",
   "execution_count": 69,
   "metadata": {},
   "outputs": [],
   "source": [
    "import numpy as np\n",
    "from sklearn.model_selection import StratifiedKFold\n",
    "from sklearn.metrics import accuracy_score, confusion_matrix\n",
    "from sklearn.preprocessing import StandardScaler\n",
    "from sklearn.neural_network import MLPClassifier\n",
    "from sklearn.ensemble import RandomForestClassifier\n",
    "from sklearn.svm import SVC\n",
    "from sklearn.linear_model import LogisticRegression\n",
    "from xgboost import XGBClassifier\n",
    "import os\n",
    "import random\n",
    "import matplotlib.pyplot as plt\n",
    "# import seaborn as sns"
   ]
  },
  {
   "cell_type": "code",
   "execution_count": 70,
   "metadata": {},
   "outputs": [],
   "source": [
    "seed=1234\n",
    "random.seed(seed)\n",
    "np.random.seed(seed)\n",
    "Datasets=['Matek', 'Acevedo','SYSU3H']\n",
    "os.environ['CUDA_VISIBLE_DEVICES'] = '3'"
   ]
  },
  {
   "cell_type": "code",
   "execution_count": 71,
   "metadata": {},
   "outputs": [
    {
     "name": "stdout",
     "output_type": "stream",
     "text": [
      "(33215, 768)\n"
     ]
    }
   ],
   "source": [
    "x = np.load('./X.npy')\n",
    "y = np.load('./y.npy')\n",
    "dataset = np.load('./dataset.npy')\n",
    "kf = StratifiedKFold(n_splits=5, shuffle=True, random_state=seed)\n",
    "print(x.shape)"
   ]
  },
  {
   "cell_type": "code",
   "execution_count": 72,
   "metadata": {},
   "outputs": [],
   "source": [
    "#preprocess for xgboost\n",
    "y[y==10]=-1\n",
    "y[y==3]=10\n",
    "y[y==-1]=3"
   ]
  },
  {
   "cell_type": "code",
   "execution_count": 73,
   "metadata": {},
   "outputs": [],
   "source": [
    "X={}\n",
    "Y={}\n",
    "for ds in range(len(Datasets)):\n",
    "    X[ds] = x[dataset == ds]\n",
    "    Y[ds] = y[dataset == ds]"
   ]
  },
  {
   "cell_type": "code",
   "execution_count": 74,
   "metadata": {},
   "outputs": [
    {
     "name": "stdout",
     "output_type": "stream",
     "text": [
      "RandomForestClassifier :\n",
      "train on Matek :\n",
      "test on Matek, acc mean : 0.920887, acc std : 0.003011\n",
      "test on Acevedo, acc mean : 0.376153, acc std : 0.02423\n",
      "test on SYSU3H, acc mean : 0.114804, acc std : 0.03685\n",
      "train on Acevedo :\n",
      "test on Matek, acc mean : 0.238896, acc std : 0.02262\n",
      "test on Acevedo, acc mean : 0.853882, acc std : 0.00679\n",
      "test on SYSU3H, acc mean : 0.233837, acc std : 0.02733\n",
      "train on SYSU3H :\n",
      "test on Matek, acc mean : 0.314476, acc std : 0.03109\n",
      "test on Acevedo, acc mean : 0.135873, acc std : 0.0201\n",
      "test on SYSU3H, acc mean : 0.843057, acc std : 0.04481\n"
     ]
    }
   ],
   "source": [
    "result={ds : {ds : np.zeros(5) for ds in Datasets} for ds in Datasets}\n",
    "cm=[np.zeros((13,13)), np.zeros((11,11))]\n",
    "print(\"RandomForestClassifier :\")\n",
    "for ds in range(len(Datasets)):\n",
    "    for fold, (train_index, test_index) in enumerate(kf.split(X[ds], Y[ds])):\n",
    "        rf = RandomForestClassifier(n_estimators=200, max_depth=16, n_jobs=64, random_state=seed)\n",
    "        rf.fit(X[ds][train_index],Y[ds][train_index])\n",
    "        pred = rf.predict(X[ds][test_index])\n",
    "        accuracy = accuracy_score(Y[ds][test_index], pred)\n",
    "        result[Datasets[ds]][Datasets[ds]][fold] = accuracy\n",
    "        for val_ds in range(len(Datasets)):\n",
    "            if val_ds == ds:\n",
    "                continue\n",
    "            pred = rf.predict(x[dataset == val_ds])\n",
    "            # cm[val_ds] += confusion_matrix(y[dataset == val_ds], pred)\n",
    "            accuracy = accuracy_score(y[dataset == val_ds], pred)\n",
    "            result[Datasets[ds]][Datasets[val_ds]][fold] = accuracy\n",
    "\n",
    "for ds in Datasets:\n",
    "    if ds != 'SYSU3H':\n",
    "        print(\"train on {} :\".format(ds))\n",
    "        for val_ds in Datasets:\n",
    "            print(\"test on {}, acc mean : {:.6}, acc std : {:.4}\".format(val_ds, result[ds][val_ds].mean(), result[ds][val_ds].std()))\n"
   ]
  },
  {
   "cell_type": "code",
   "execution_count": 75,
   "metadata": {},
   "outputs": [
    {
     "name": "stdout",
     "output_type": "stream",
     "text": [
      "XGBoost :\n",
      "train on Matek :\n",
      "test on Matek, acc mean : 0.946458, acc std : 0.003101\n",
      "test on Acevedo, acc mean : 0.552692, acc std : 0.01604\n",
      "test on SYSU3H, acc mean : 0.116012, acc std : 0.03886\n",
      "train on Acevedo :\n",
      "test on Matek, acc mean : 0.323428, acc std : 0.02919\n",
      "test on Acevedo, acc mean : 0.875198, acc std : 0.004229\n",
      "test on SYSU3H, acc mean : 0.194562, acc std : 0.06716\n"
     ]
    }
   ],
   "source": [
    "result={ds : {ds : np.zeros(5) for ds in Datasets} for ds in Datasets}\n",
    "print(\"XGBoost :\")\n",
    "for ds in range(len(Datasets)):\n",
    "    if Datasets[ds] != 'SYSU3H':\n",
    "        for fold, (train_index, test_index) in enumerate(kf.split(X[ds], Y[ds])):\n",
    "            xgboost = XGBClassifier(tree_method = \"hist\", device = \"cuda\",random_state=seed)\n",
    "            xgboost.fit(X[ds][train_index],Y[ds][train_index])\n",
    "            pred = xgboost.predict(X[ds][test_index])\n",
    "            accuracy = accuracy_score(Y[ds][test_index], pred)\n",
    "            result[Datasets[ds]][Datasets[ds]][fold] = accuracy\n",
    "            for val_ds in range(len(Datasets)):\n",
    "                if val_ds == ds:\n",
    "                    continue\n",
    "                pred = xgboost.predict(x[dataset == val_ds])\n",
    "                accuracy = accuracy_score(y[dataset == val_ds], pred)\n",
    "                result[Datasets[ds]][Datasets[val_ds]][fold] = accuracy\n",
    "\n",
    "    \n",
    "for ds in Datasets:\n",
    "    if ds != 'SYSU3H':\n",
    "        print(\"train on {} :\".format(ds))\n",
    "        for val_ds in Datasets:\n",
    "            print(\"test on {}, acc mean : {:.6}, acc std : {:.4}\".format(val_ds, result[ds][val_ds].mean(), result[ds][val_ds].std()))"
   ]
  },
  {
   "cell_type": "code",
   "execution_count": 76,
   "metadata": {},
   "outputs": [
    {
     "name": "stdout",
     "output_type": "stream",
     "text": [
      "SVM(poly) :\n",
      "train on Matek :\n",
      "test on Matek, acc mean : 0.947058, acc std : 0.002776\n",
      "test on Acevedo, acc mean : 0.488909, acc std : 0.005737\n",
      "test on SYSU3H, acc mean : 0.159517, acc std : 0.03712\n",
      "train on Acevedo :\n",
      "test on Matek, acc mean : 0.274184, acc std : 0.04825\n",
      "test on Acevedo, acc mean : 0.877192, acc std : 0.005145\n",
      "test on SYSU3H, acc mean : 0.150453, acc std : 0.01943\n",
      "train on SYSU3H :\n",
      "test on Matek, acc mean : 0.349894, acc std : 0.04106\n",
      "test on Acevedo, acc mean : 0.234078, acc std : 0.05661\n",
      "test on SYSU3H, acc mean : 0.667797, acc std : 0.04385\n"
     ]
    }
   ],
   "source": [
    "result={ds : {ds : np.zeros(5) for ds in Datasets} for ds in Datasets}\n",
    "print('SVM(poly) :')\n",
    "for ds in range(len(Datasets)):\n",
    "    for fold, (train_index, test_index) in enumerate(kf.split(X[ds], Y[ds])):\n",
    "        scaler = StandardScaler()\n",
    "        svc = SVC(kernel='poly', random_state=seed)\n",
    "        svc.fit(scaler.fit_transform(X[ds][train_index]),Y[ds][train_index])\n",
    "        pred = svc.predict(scaler.transform(X[ds][test_index]))\n",
    "        accuracy = accuracy_score(Y[ds][test_index], pred)\n",
    "        result[Datasets[ds]][Datasets[ds]][fold] = accuracy\n",
    "        for val_ds in range(len(Datasets)):\n",
    "            if val_ds == ds:\n",
    "                continue\n",
    "            pred = svc.predict(scaler.transform(x[dataset == val_ds]))\n",
    "            accuracy = accuracy_score(y[dataset == val_ds], pred)\n",
    "            result[Datasets[ds]][Datasets[val_ds]][fold] = accuracy\n",
    "\n",
    "    \n",
    "for ds in Datasets:\n",
    "    if ds != 'SYSU3H':\n",
    "        print(\"train on {} :\".format(ds))\n",
    "        for val_ds in Datasets:\n",
    "            print(\"test on {}, acc mean : {:.6}, acc std : {:.4}\".format(val_ds, result[ds][val_ds].mean(), result[ds][val_ds].std()))"
   ]
  },
  {
   "cell_type": "code",
   "execution_count": 77,
   "metadata": {},
   "outputs": [
    {
     "name": "stdout",
     "output_type": "stream",
     "text": [
      "SVM(linear) :\n",
      "train on Matek :\n",
      "test on Matek, acc mean : 0.941225, acc std : 0.00382\n",
      "test on Acevedo, acc mean : 0.612542, acc std : 0.02568\n",
      "test on SYSU3H, acc mean : 0.190937, acc std : 0.07401\n",
      "train on Acevedo :\n",
      "test on Matek, acc mean : 0.430587, acc std : 0.08156\n",
      "test on Acevedo, acc mean : 0.878911, acc std : 0.003489\n",
      "test on SYSU3H, acc mean : 0.135347, acc std : 0.05614\n"
     ]
    }
   ],
   "source": [
    "result={ds : {ds : np.zeros(5) for ds in Datasets} for ds in Datasets}\n",
    "print('SVM(linear) :')\n",
    "for ds in range(len(Datasets)):\n",
    "    for fold, (train_index, test_index) in enumerate(kf.split(X[ds], Y[ds])):\n",
    "        scaler = StandardScaler()\n",
    "        svc = SVC(kernel='linear', random_state=seed)\n",
    "        svc.fit(scaler.fit_transform(X[ds][train_index]),Y[ds][train_index])\n",
    "        pred = svc.predict(scaler.transform(X[ds][test_index]))\n",
    "        accuracy = accuracy_score(Y[ds][test_index], pred)\n",
    "        result[Datasets[ds]][Datasets[ds]][fold] = accuracy\n",
    "        for val_ds in range(len(Datasets)):\n",
    "            if val_ds == ds:\n",
    "                continue\n",
    "            pred = svc.predict(scaler.transform(x[dataset == val_ds]))\n",
    "            accuracy = accuracy_score(y[dataset == val_ds], pred)\n",
    "            # if val_ds==2 and ds == 1:\n",
    "            #     print(pred)\n",
    "            result[Datasets[ds]][Datasets[val_ds]][fold] = accuracy\n",
    "\n",
    "    \n",
    "for ds in Datasets:\n",
    "    if ds =='SYSU3H':\n",
    "        continue\n",
    "    print(\"train on {} :\".format(ds))\n",
    "    for val_ds in Datasets:\n",
    "        print(\"test on {}, acc mean : {:.6}, acc std : {:.4}\".format(val_ds, result[ds][val_ds].mean(), result[ds][val_ds].std()))"
   ]
  },
  {
   "cell_type": "code",
   "execution_count": 78,
   "metadata": {},
   "outputs": [
    {
     "name": "stdout",
     "output_type": "stream",
     "text": [
      "mlp :\n",
      "train on Matek :\n",
      "test on Matek, acc mean : 0.95491, acc std : 0.002806\n",
      "test on Acevedo, acc mean : 0.576263, acc std : 0.01604\n",
      "test on SYSU3H, acc mean : 0.145619, acc std : 0.02778\n",
      "train on Acevedo :\n",
      "test on Matek, acc mean : 0.482853, acc std : 0.06218\n",
      "test on Acevedo, acc mean : 0.893901, acc std : 0.002805\n",
      "test on SYSU3H, acc mean : 0.149849, acc std : 0.06975\n",
      "train on SYSU3H :\n",
      "test on Matek, acc mean : 0.516155, acc std : 0.1149\n",
      "test on Acevedo, acc mean : 0.287451, acc std : 0.1255\n",
      "test on SYSU3H, acc mean : 0.867119, acc std : 0.06002\n"
     ]
    }
   ],
   "source": [
    "result={ds : {ds : np.zeros(5) for ds in Datasets} for ds in Datasets}\n",
    "print('mlp :')\n",
    "for ds in range(len(Datasets)):\n",
    "    for fold, (train_index, test_index) in enumerate(kf.split(X[ds], Y[ds])):\n",
    "        scaler = StandardScaler()\n",
    "        mlp = MLPClassifier(max_iter=1000, early_stopping=True, random_state=seed)\n",
    "        mlp.fit(scaler.fit_transform(X[ds][train_index]),Y[ds][train_index])\n",
    "        pred = mlp.predict(scaler.transform(X[ds][test_index]))\n",
    "        accuracy = accuracy_score(Y[ds][test_index], pred)\n",
    "        result[Datasets[ds]][Datasets[ds]][fold] = accuracy\n",
    "        for val_ds in range(len(Datasets)):\n",
    "            if val_ds == ds:\n",
    "                continue\n",
    "            pred = mlp.predict(scaler.transform(x[dataset == val_ds]))\n",
    "            accuracy = accuracy_score(y[dataset == val_ds], pred)\n",
    "            result[Datasets[ds]][Datasets[val_ds]][fold] = accuracy\n",
    "\n",
    "    \n",
    "for ds in Datasets:\n",
    "    if ds != 'SYSU3H':\n",
    "        print(\"train on {} :\".format(ds))\n",
    "        for val_ds in Datasets:\n",
    "            print(\"test on {}, acc mean : {:.6}, acc std : {:.4}\".format(val_ds, result[ds][val_ds].mean(), result[ds][val_ds].std()))"
   ]
  },
  {
   "cell_type": "code",
   "execution_count": 79,
   "metadata": {},
   "outputs": [
    {
     "name": "stdout",
     "output_type": "stream",
     "text": [
      "LogisticRegression :\n",
      "train on Matek :\n",
      "test on Matek, acc mean : 0.950657, acc std : 0.003232\n",
      "test on Acevedo, acc mean : 0.571326, acc std : 0.03908\n",
      "test on SYSU3H, acc mean : 0.152266, acc std : 0.06587\n",
      "train on Acevedo :\n",
      "test on Matek, acc mean : 0.428755, acc std : 0.1098\n",
      "test on Acevedo, acc mean : 0.886612, acc std : 0.002504\n",
      "test on SYSU3H, acc mean : 0.236858, acc std : 0.03049\n",
      "train on SYSU3H :\n",
      "test on Matek, acc mean : 0.610665, acc std : 0.06695\n",
      "test on Acevedo, acc mean : 0.384295, acc std : 0.06686\n",
      "test on SYSU3H, acc mean : 0.933424, acc std : 0.0313\n"
     ]
    }
   ],
   "source": [
    "result={ds : {ds : np.zeros(5) for ds in Datasets} for ds in Datasets}\n",
    "print('LogisticRegression :')\n",
    "for ds in range(len(Datasets)):\n",
    "    for fold, (train_index, test_index) in enumerate(kf.split(X[ds], Y[ds])):\n",
    "        scaler = StandardScaler()\n",
    "        lr = LogisticRegression(max_iter=500, random_state=seed)\n",
    "        lr.fit(scaler.fit_transform(X[ds][train_index]),Y[ds][train_index])\n",
    "        pred = lr.predict(scaler.transform(X[ds][test_index]))\n",
    "        accuracy = accuracy_score(Y[ds][test_index], pred)\n",
    "        result[Datasets[ds]][Datasets[ds]][fold] = accuracy\n",
    "        for val_ds in range(len(Datasets)):\n",
    "            if val_ds == ds:\n",
    "                continue\n",
    "            pred = lr.predict(scaler.transform(x[dataset == val_ds]))\n",
    "            accuracy = accuracy_score(y[dataset == val_ds], pred)\n",
    "            result[Datasets[ds]][Datasets[val_ds]][fold] = accuracy\n",
    "\n",
    "    \n",
    "for ds in Datasets:\n",
    "    if ds != 'SYSU3H':\n",
    "        print(\"train on {} :\".format(ds))\n",
    "        for val_ds in Datasets:\n",
    "            print(\"test on {}, acc mean : {:.6}, acc std : {:.4}\".format(val_ds, result[ds][val_ds].mean(), result[ds][val_ds].std()))"
   ]
  }
 ],
 "metadata": {
  "kernelspec": {
   "display_name": "pytorch",
   "language": "python",
   "name": "python3"
  },
  "language_info": {
   "codemirror_mode": {
    "name": "ipython",
    "version": 3
   },
   "file_extension": ".py",
   "mimetype": "text/x-python",
   "name": "python",
   "nbconvert_exporter": "python",
   "pygments_lexer": "ipython3",
   "version": "3.9.19"
  }
 },
 "nbformat": 4,
 "nbformat_minor": 2
}
